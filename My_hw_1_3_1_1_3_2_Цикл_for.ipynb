{
  "cells": [
    {
      "cell_type": "markdown",
      "metadata": {
        "id": "view-in-github",
        "colab_type": "text"
      },
      "source": [
        "<a href=\"https://colab.research.google.com/github/MariKa666/repository-test-1/blob/main/My_hw_1_3_1_1_3_2_%D0%A6%D0%B8%D0%BA%D0%BB_for.ipynb\" target=\"_parent\"><img src=\"https://colab.research.google.com/assets/colab-badge.svg\" alt=\"Open In Colab\"/></a>"
      ]
    },
    {
      "cell_type": "markdown",
      "metadata": {
        "id": "W8lqt6zd9axA"
      },
      "source": [
        "#Домашнє завдання до теми \"Цикл for\""
      ]
    },
    {
      "cell_type": "markdown",
      "metadata": {
        "id": "iXzoNTu604kH"
      },
      "source": [
        "0. Розігрів. Напишіть цикл, який виводить на екран числа від 1 до 10 включно."
      ]
    },
    {
      "cell_type": "code",
      "execution_count": null,
      "metadata": {
        "id": "zpwypSSp0MVm",
        "outputId": "895861ba-01f2-4493-ce8c-191f29d1c2f3"
      },
      "outputs": [
        {
          "name": "stdout",
          "output_type": "stream",
          "text": [
            "1, 2, 3, 4, 5, 6, 7, 8, 9, "
          ]
        }
      ],
      "source": [
        "for i in range(1, 10):\n",
        "    print (i, end = ', ')"
      ]
    },
    {
      "cell_type": "markdown",
      "metadata": {
        "id": "JmWR8uze094H"
      },
      "source": [
        "**Початок покладено!**"
      ]
    },
    {
      "cell_type": "markdown",
      "metadata": {
        "id": "OJX3yG-Blplu"
      },
      "source": [
        "1. Задайте список `numbers`, який містить значення від 0 до 9 включно. Використовуючи цикл `for`, обчисліть суму елементів в створеному списку та виведіть фінальну суму на екран."
      ]
    },
    {
      "cell_type": "code",
      "execution_count": null,
      "metadata": {
        "id": "sSX30A5yuvUQ",
        "outputId": "60ff4bdd-0cb7-4bb7-d00d-9d3b386b1566"
      },
      "outputs": [
        {
          "data": {
            "text/plain": [
              "[0, 1, 2, 3, 4, 5, 6, 7, 8, 9]"
            ]
          },
          "execution_count": 44,
          "metadata": {},
          "output_type": "execute_result"
        }
      ],
      "source": [
        "numbers = list(range(10))\n",
        "numbers"
      ]
    },
    {
      "cell_type": "markdown",
      "metadata": {
        "id": "6Tb2Kx_jmD5b"
      },
      "source": [
        "2. Використовуючи цикл  `for` виведіть для кожного елементу списку `numbers`,який ми створили в завданні 1, чи цей елемент дорівнює 5. Тобто після виконання циклу на екрані має бути 10 bool значень."
      ]
    },
    {
      "cell_type": "code",
      "execution_count": null,
      "metadata": {
        "id": "Ls8ZW8DWuwHC",
        "outputId": "ef2c1072-c93f-4905-83f1-95f9fa2f82de"
      },
      "outputs": [
        {
          "name": "stdout",
          "output_type": "stream",
          "text": [
            "0 != 5\n",
            "1 != 5\n",
            "2 != 5\n",
            "3 != 5\n",
            "4 != 5\n",
            "5 = 5\n",
            "6 != 5\n",
            "7 != 5\n",
            "8 != 5\n",
            "9 != 5\n"
          ]
        }
      ],
      "source": [
        "for i_1 in numbers:\n",
        "    if i_1 == 5:\n",
        "        print(f'{i_1} = 5')\n",
        "    else:\n",
        "        print(f\"{i_1} != 5\")"
      ]
    },
    {
      "cell_type": "markdown",
      "metadata": {
        "id": "ddFE1naOmp7Q"
      },
      "source": [
        "3. Використовуючи цикл  `for` для кожного елементу списку `numbers`, який ми створили в завданні 1, виявіть, чи цей елемент ділиться на 2 без остачі, та запишіть результат у новий список `numbers_divisible_by_2`.\n",
        "\n",
        "Увага! Виконання завдання відрізняється від попереднього тим, що тепер ми результат обчислення на кожній ітерації записуємо у новий список. До того ж ми тут виконуємо іншу математичну операцію.\n",
        "\n",
        "Виведіть фільнальний список `numbers_divisible_by_2` на екран."
      ]
    },
    {
      "cell_type": "code",
      "execution_count": null,
      "metadata": {
        "id": "S2Pk_W12uyDo",
        "outputId": "92e9435b-3123-4bcb-ec2d-d86e2880e251"
      },
      "outputs": [
        {
          "data": {
            "text/plain": [
              "[True, False, True, False, True, False, True, False, True, False]"
            ]
          },
          "execution_count": 50,
          "metadata": {},
          "output_type": "execute_result"
        }
      ],
      "source": [
        "numbers = list(range(10))\n",
        "numbers_divisible_by_2 = []\n",
        "for i_2 in numbers:\n",
        "    numbers_divisible_by_2.append(i_2 % 2 == 0)\n",
        "numbers_divisible_by_2"
      ]
    },
    {
      "cell_type": "markdown",
      "metadata": {
        "id": "cwvpWeVGnUGB"
      },
      "source": [
        "Очікуваний результат: `[True, False, True, False, True, False, True, False, True, False]`"
      ]
    },
    {
      "cell_type": "markdown",
      "metadata": {
        "id": "0rgeGpJ3utVN"
      },
      "source": [
        "4. Задано два списки в клітинці нижче - `a` і `b`. Створіть цикл, результатом якого буде список `result`, що містить елементи типу bool і який фактично каже,\n",
        "\"чи на цьому індексі елементи наших двох списків співпадають\". Приклад:\n",
        "```\n",
        "a = [1, 2, 3, 6]\n",
        "b = [1, 7, 3, 6]\n",
        "# ми виконали поелементне порівняння двох списків і отримали новий список result\n",
        "# result містить наступний результат -> [True, False, True, True]\n",
        "```\n",
        "В кінці виведіть вміст result на екран.\n",
        "\n",
        "<details>\n",
        "<summary>Підказка</summary>\n",
        "\n",
        "Аби порівняти елементи в циклі - треба створити цикл по індексам елементів. Зважаючи, що наші списки - одної довжини, цей підхід дозволить нам отримати чітко те, що треба.\n",
        "\n",
        "**Просунутий варіант.** Альтернативно можна створити цикл, який на кожній ітерації має доступ до двох елементів - по одному з кожного списка, для цього треба скористатись функцією `zip` - приклад [тут](https://realpython.com/python-zip-function/#traversing-lists-in-parallel)\n",
        "</details>\n"
      ]
    },
    {
      "cell_type": "code",
      "execution_count": null,
      "metadata": {
        "id": "IIYG41pWdJiG"
      },
      "outputs": [],
      "source": [
        "a = [64, 93, 60, 95, 66, 9, 15, 55, 77, 28, 74, 100, 13, 1, 85, 48, 66, 65, 59, 32]\n",
        "b = [64, 93, 60, 95, 66, 9, 15, 56, 77, 28, 74, 100, 13, 1, 85, 48, 67, 65, 59, 32]"
      ]
    },
    {
      "cell_type": "code",
      "execution_count": null,
      "metadata": {
        "id": "XgZwTwr4u2lA",
        "outputId": "1d5060f8-14ef-401d-a1bb-455353cfae11"
      },
      "outputs": [
        {
          "name": "stdout",
          "output_type": "stream",
          "text": [
            "[True, True, True, True, True, True, True, False, True, True, True, True, True, True, True, True, False, True, True, True]\n"
          ]
        }
      ],
      "source": [
        "result = []\n",
        "for i_3 in range(len(a)):\n",
        "    result.append(a[i_3] == b[i_3])\n",
        "print(result)"
      ]
    },
    {
      "cell_type": "markdown",
      "metadata": {
        "id": "0Z2cObcTutVO"
      },
      "source": [
        "5. Нижче задано список `numbers`. Виконайте клітинку з його заданням.\n",
        "\n",
        "  Давайте знайдемо середнє арифметичне значення елементів списку `numbers` округлене до 2 цифр після коми та запишемо його у змінну `numbers_mean`. Для цього виконаємо два простих кроки.\n",
        "\n",
        "  1) Знайдіть суму всіх елементів списку `numbers` та запишіть її у змінну `numbers_sum`. Можна з використанням циклу, а можна і без.\n",
        "\n",
        "  2) Обчисліть `numbers_mean` шляхом ділення суми елементів у списку на їх кількість. Кількість елементів в списку - це його довжина.\n",
        "\n",
        "  Виведіть `numbers_mean`, округлений до 2 цифр після коми, на екран.\n",
        "\n",
        "  **Підказка**: округлити число можна з використанням вбудованої функції Python [round()](https://docs.python.org/3/library/functions.html#round)."
      ]
    },
    {
      "cell_type": "code",
      "execution_count": null,
      "metadata": {
        "id": "TwuOmLpeutVO"
      },
      "outputs": [],
      "source": [
        "numbers = [42, 51, 29, 2, 13, 44, 80, 66, 16]"
      ]
    },
    {
      "cell_type": "code",
      "execution_count": null,
      "metadata": {
        "id": "R-qDvKVcu6e1",
        "outputId": "cb1bf168-9ab4-4931-9fa2-25553da24ae9"
      },
      "outputs": [
        {
          "name": "stdout",
          "output_type": "stream",
          "text": [
            "38.11\n"
          ]
        }
      ],
      "source": [
        "numbers_sum = 0\n",
        "numbers_mean = 0\n",
        "for i_4 in numbers:\n",
        "    numbers_sum = sum(numbers)\n",
        "numbers_mean = numbers_sum / len(numbers)\n",
        "print(round(numbers_mean, 2))"
      ]
    },
    {
      "cell_type": "code",
      "execution_count": null,
      "metadata": {
        "id": "hUPdtcH-SKBx",
        "outputId": "7e7dece4-71c7-4f96-9f45-d582e5fe5caa"
      },
      "outputs": [
        {
          "name": "stdout",
          "output_type": "stream",
          "text": [
            "38.11\n"
          ]
        }
      ],
      "source": [
        "# і без for простіше..\n",
        "numbers_sum = sum(numbers)\n",
        "numbers_mean = numbers_sum / len(numbers)\n",
        "print(round(numbers_mean, 2))"
      ]
    },
    {
      "cell_type": "markdown",
      "metadata": {
        "id": "pSdssHuuutVQ"
      },
      "source": [
        "Очікуваний результат: `38.11`"
      ]
    },
    {
      "cell_type": "markdown",
      "metadata": {
        "id": "JsevSvVtutVQ"
      },
      "source": [
        "6. Задано список `a` і елемент `element`. Перевірте програмно чи є в списку `a` елемент `element` з допомогою інструкцій `if ... else`. Виведіть на екран відповідь \"Так, є\", якщо цей елемент в списку присутній, або \"Ні, нема\", якщо його там немає.\n",
        "Важливо це зробити без використання імпортів будь-яких бібліотек.\n",
        "\n",
        "  Тут цикла немає :) Але це завдання - підготовче до наступного."
      ]
    },
    {
      "cell_type": "code",
      "execution_count": null,
      "metadata": {
        "id": "TqkTdlN_utVQ"
      },
      "outputs": [],
      "source": [
        "a = [64, 93, 60, 95, 66, 9, 15, 55, 77, 28, 74, 100, 13, 1, 85, 48, 66, 65, 59, 32]\n",
        "element = 33"
      ]
    },
    {
      "cell_type": "code",
      "execution_count": null,
      "metadata": {
        "id": "aL_76T8pu7fp",
        "outputId": "4852d65d-1a0e-4140-d7da-f2f57b03508d"
      },
      "outputs": [
        {
          "name": "stdout",
          "output_type": "stream",
          "text": [
            "Ні, нема\n"
          ]
        }
      ],
      "source": [
        "if a == element:\n",
        "    print(\"Так, є\")\n",
        "else:\n",
        "    print(\"Ні, нема\")"
      ]
    },
    {
      "cell_type": "markdown",
      "metadata": {
        "id": "QKjmv4j0utVR"
      },
      "source": [
        "7. Тепер у нас не один елемент, а кілька. Вони наведені в змінній `elements`. За допомогою циклу і інструкцій `if ... else` для кожного елемента списку `elements` перевірте, чи він є в списку `a`.\n",
        "Виведіть на екран відповідь \"Так, є елемент <вставити значення елемента>\", якщо елемент в списку присутній, або \"Ні, нема елемента <вставити значення елемента>\", якщо його там немає."
      ]
    },
    {
      "cell_type": "code",
      "execution_count": null,
      "metadata": {
        "id": "TF3nT5TMutVR"
      },
      "outputs": [],
      "source": [
        "elements = [44, 66, 77, 100]"
      ]
    },
    {
      "cell_type": "code",
      "execution_count": null,
      "metadata": {
        "id": "pQD5InOQvG1d",
        "outputId": "973ae6b6-f15e-4d57-bea5-4b91a247134d"
      },
      "outputs": [
        {
          "name": "stdout",
          "output_type": "stream",
          "text": [
            "Ні, нема елемента 44\n",
            "Так, є елемент 66\n",
            "Так, є елемент 77\n",
            "Так, є елемент 100\n"
          ]
        }
      ],
      "source": [
        "for elm in elements:\n",
        "    if elm in a:\n",
        "        print(f\"Так, є елемент {elm}\")\n",
        "    else:\n",
        "        print(f\"Ні, нема елемента {elm}\")"
      ]
    }
  ],
  "metadata": {
    "colab": {
      "provenance": [],
      "include_colab_link": true
    },
    "kernelspec": {
      "display_name": "Python 3 (ipykernel)",
      "language": "python",
      "name": "python3"
    },
    "language_info": {
      "codemirror_mode": {
        "name": "ipython",
        "version": 3
      },
      "file_extension": ".py",
      "mimetype": "text/x-python",
      "name": "python",
      "nbconvert_exporter": "python",
      "pygments_lexer": "ipython3",
      "version": "3.11.5"
    }
  },
  "nbformat": 4,
  "nbformat_minor": 0
}