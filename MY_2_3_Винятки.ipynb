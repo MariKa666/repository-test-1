{
  "cells": [
    {
      "cell_type": "markdown",
      "metadata": {
        "id": "view-in-github",
        "colab_type": "text"
      },
      "source": [
        "<a href=\"https://colab.research.google.com/github/MariKa666/repository-test-1/blob/main/MY_2_3_%D0%92%D0%B8%D0%BD%D1%8F%D1%82%D0%BA%D0%B8.ipynb\" target=\"_parent\"><img src=\"https://colab.research.google.com/assets/colab-badge.svg\" alt=\"Open In Colab\"/></a>"
      ]
    },
    {
      "cell_type": "markdown",
      "id": "1561554f",
      "metadata": {
        "id": "1561554f"
      },
      "source": [
        "# Домашнє завдання до теми \"Exceptions\""
      ]
    },
    {
      "cell_type": "markdown",
      "id": "iBHEcmV7R34X",
      "metadata": {
        "id": "iBHEcmV7R34X"
      },
      "source": [
        "\n",
        "\n",
        "1. **Конвертер стрічки в число**\n",
        "\n",
        "  **Опис завдання:**\n",
        "\n",
        "  Створіть функцію `string_to_int`, яка приймає рядок і намагається перетворити його в ціле число. Якщо рядок не можна перетворити на ціле число, функція повинна повертати `None` і генерувати виключення `\"Некоректне введення\"`.\n",
        "\n",
        "  **Приклади виклику функції:**\n",
        "\n",
        "  - `string_to_int(\"123\")` повинно повернути `123`.\n",
        "  - `string_to_int(\"abc\")` повинно повернути `None` і вивести виключення `\"Некоректне введення\"`."
      ]
    },
    {
      "cell_type": "code",
      "execution_count": null,
      "id": "5UT2YNrISdLR",
      "metadata": {
        "id": "5UT2YNrISdLR"
      },
      "outputs": [],
      "source": [
        "def string_to_int(s):\n",
        "    try:\n",
        "        integer_value = int(s)\n",
        "        return integer_value\n",
        "    except ValueError:\n",
        "        return None"
      ]
    },
    {
      "cell_type": "markdown",
      "id": "UbIaPiOHSgE7",
      "metadata": {
        "id": "UbIaPiOHSgE7"
      },
      "source": [
        "Продемонструйте результати робити функції запустивши код нижче."
      ]
    },
    {
      "cell_type": "code",
      "execution_count": null,
      "id": "AL7sINtwSgcs",
      "metadata": {
        "id": "AL7sINtwSgcs",
        "outputId": "1344c7e4-6620-4f89-d59d-f7d25719c26e"
      },
      "outputs": [
        {
          "data": {
            "text/plain": [
              "{'123': 123, 'abc': None, '456.78': None, '100': 100}"
            ]
          },
          "execution_count": 21,
          "metadata": {},
          "output_type": "execute_result"
        }
      ],
      "source": [
        "test_inputs = [\"123\", \"abc\", \"456.78\", \"100\"]\n",
        "results = {input_value: string_to_int(input_value) for input_value in test_inputs}\n",
        "results"
      ]
    },
    {
      "cell_type": "markdown",
      "id": "KkzLp29pQ1-U",
      "metadata": {
        "id": "KkzLp29pQ1-U"
      },
      "source": [
        "2. **Контроль введення користувача**\n",
        "\n",
        "  Створіть функцію `check_age`, яка приймає на вхід вік користувача у форматі рядок і перевіряє, чи є користувач повнолітнім (18 років і старше). Якщо введене значення не може бути перетворено на ціле число, функція повинна підіймати виняток `\"Некоректне введення. Будь ласка, введіть числове значення.\"` і повертати `False`. Якщо вік користувача менше 18, вивести повідомлення `\"Ви не повнолітній!\"` і також повернути `False`. У випадку, коли вік 18 років або більше, вивести повідомлення `\"Ви повнолітній.\"` і повернути `True`.\n",
        "\n",
        "  **Приклад роботи програми:**\n",
        "\n",
        "  1. Користувач вводить `\"двадцять\"`: програма створює виняток `\"Некоректне введення. Будь ласка, введіть числове значення.\"` і повертає `False`.\n",
        "  2. Користувач вводить `\"17\"`: програма виводить `\"Ви не повнолітній!\"` і повертає `False`.\n",
        "  3. Користувач вводить `\"18\"`: програма виводить `\"Ви повнолітній.\"` і повертає `True`.\n",
        "\n",
        "\n"
      ]
    },
    {
      "cell_type": "code",
      "execution_count": null,
      "id": "K3PTENm-Ae3-",
      "metadata": {
        "id": "K3PTENm-Ae3-"
      },
      "outputs": [],
      "source": [
        "def check_age(age_str):\n",
        "    try:\n",
        "        age = int(age_str)\n",
        "        if age < 18:\n",
        "            print(\"Ви не повнолітній!\")\n",
        "            return False\n",
        "        else:\n",
        "            print(\"Ви повнолітній.\")\n",
        "            return True\n",
        "    except ValueError:\n",
        "        print(\"Некоректне введення. Будь ласка, введіть числове значення.\")\n",
        "        return False"
      ]
    },
    {
      "cell_type": "markdown",
      "id": "huphMh7YR2GJ",
      "metadata": {
        "id": "huphMh7YR2GJ"
      },
      "source": [
        "Продемонструйте результати робити функції запустивши код нижче."
      ]
    },
    {
      "cell_type": "code",
      "execution_count": null,
      "id": "YuEQrntVRgSE",
      "metadata": {
        "id": "YuEQrntVRgSE",
        "outputId": "8035d00c-34f4-4655-f72d-e14fc03787eb"
      },
      "outputs": [
        {
          "name": "stdout",
          "output_type": "stream",
          "text": [
            "Некоректне введення. Будь ласка, введіть числове значення.\n",
            "Ви не повнолітній!\n",
            "Ви повнолітній.\n"
          ]
        },
        {
          "data": {
            "text/plain": [
              "[False, False, True]"
            ]
          },
          "execution_count": 23,
          "metadata": {},
          "output_type": "execute_result"
        }
      ],
      "source": [
        "test_inputs = [\"двадцять\", \"17\", \"18\"]\n",
        "results = [check_age(input_value) for input_value in test_inputs]\n",
        "results"
      ]
    },
    {
      "cell_type": "markdown",
      "id": "CQg-zIJGTqjw",
      "metadata": {
        "id": "CQg-zIJGTqjw"
      },
      "source": [
        "3. **Обчислення середнього з перевіркою:** Напишіть функцію `calculate_average`, яка приймає на вхід список чисел і обчислює середнє арифметичне значення цих чисел. Функція повинна перевіряти, що всі елементи списку є числами. Якщо серед елементів списку зустрічається елемент, який не є числом, функція повинна вивести повідомлення `\"Всі елементи повинні бути числами\"` і повернути `None`.\n",
        "\n",
        "**Приклади виклику функції:**\n",
        "\n",
        "- `calculate_average([1, 2, 3, 4, 5])` повинно повернути `3.0`.\n",
        "- `calculate_average([1, \"2\", 3])` повинно повернути `None` і вивести `\"Всі елементи повинні бути числами\"`.\n",
        "- `calculate_average([-1.1, \"ф\", 4])` повинно повернути `None` і вивести `\"Всі елементи повинні бути числами\"`."
      ]
    },
    {
      "cell_type": "code",
      "execution_count": null,
      "id": "91VU_y5sUAKB",
      "metadata": {
        "id": "91VU_y5sUAKB",
        "outputId": "887c4db5-91cd-47be-c08a-86cb04e81056"
      },
      "outputs": [
        {
          "name": "stdout",
          "output_type": "stream",
          "text": [
            "Результат обчислення середнього: None\n"
          ]
        }
      ],
      "source": [
        "def calculate_average(numbers):\n",
        "    try:\n",
        "        # Перевірка, чи всі елементи списку є числами\n",
        "        for num in numbers:\n",
        "            if not isinstance(num, (int, float)):\n",
        "                raise TypeError(\"Всі елементи повинні бути числами\")\n",
        "        avg = sum(numbers) / len(numbers)\n",
        "        return avg\n",
        "    except ZeroDivisionError:\n",
        "        print(\"Список чисел порожній\")\n",
        "        return None\n",
        "    except TypeError as e:\n",
        "        print(e)\n",
        "        return None\n",
        "print(\"Результат обчислення середнього:\", result)"
      ]
    },
    {
      "cell_type": "markdown",
      "id": "ib-JWKKmUeF8",
      "metadata": {
        "id": "ib-JWKKmUeF8"
      },
      "source": [
        "Продемонструйте результати робити функції запустивши код нижче."
      ]
    },
    {
      "cell_type": "code",
      "execution_count": null,
      "id": "axEmZx0rUNqT",
      "metadata": {
        "id": "axEmZx0rUNqT",
        "outputId": "0c93e119-74e8-49e9-c3bf-18b5a2ce6502"
      },
      "outputs": [
        {
          "name": "stdout",
          "output_type": "stream",
          "text": [
            "Всі елементи повинні бути числами\n",
            "Всі елементи повинні бути числами\n"
          ]
        },
        {
          "data": {
            "text/plain": [
              "[3.0, None, 20.0, None]"
            ]
          },
          "execution_count": 48,
          "metadata": {},
          "output_type": "execute_result"
        }
      ],
      "source": [
        "test_data = [\n",
        "    [1, 2, 3, 4, 5],  # Коректні дані\n",
        "    [1, \"2\", 3],      # Некоректні дані\n",
        "    [10, 20, 30],     # Коректні дані\n",
        "    [-1.1, \"ф\", 4]    # Некоректні дані\n",
        "]\n",
        "\n",
        "results = [calculate_average(data) for data in test_data]\n",
        "results"
      ]
    },
    {
      "cell_type": "code",
      "execution_count": null,
      "id": "7139cccb",
      "metadata": {
        "id": "7139cccb"
      },
      "outputs": [],
      "source": []
    }
  ],
  "metadata": {
    "colab": {
      "provenance": [],
      "include_colab_link": true
    },
    "kernelspec": {
      "display_name": "Python 3 (ipykernel)",
      "language": "python",
      "name": "python3"
    },
    "language_info": {
      "codemirror_mode": {
        "name": "ipython",
        "version": 3
      },
      "file_extension": ".py",
      "mimetype": "text/x-python",
      "name": "python",
      "nbconvert_exporter": "python",
      "pygments_lexer": "ipython3",
      "version": "3.11.5"
    },
    "toc": {
      "base_numbering": 1,
      "nav_menu": {},
      "number_sections": true,
      "sideBar": true,
      "skip_h1_title": false,
      "title_cell": "Table of Contents",
      "title_sidebar": "Contents",
      "toc_cell": false,
      "toc_position": {},
      "toc_section_display": true,
      "toc_window_display": false
    }
  },
  "nbformat": 4,
  "nbformat_minor": 5
}