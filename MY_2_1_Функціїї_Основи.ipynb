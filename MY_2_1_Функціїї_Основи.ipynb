{
  "cells": [
    {
      "cell_type": "markdown",
      "metadata": {
        "id": "view-in-github",
        "colab_type": "text"
      },
      "source": [
        "<a href=\"https://colab.research.google.com/github/MariKa666/repository-test-1/blob/main/MY_2_1_%D0%A4%D1%83%D0%BD%D0%BA%D1%86%D1%96%D1%97%D1%97_%D0%9E%D1%81%D0%BD%D0%BE%D0%B2%D0%B8.ipynb\" target=\"_parent\"><img src=\"https://colab.research.google.com/assets/colab-badge.svg\" alt=\"Open In Colab\"/></a>"
      ]
    },
    {
      "cell_type": "markdown",
      "metadata": {
        "id": "QtHabST6Ez_n"
      },
      "source": [
        "# Домашнє завдання до теми \"Functions\""
      ]
    },
    {
      "cell_type": "markdown",
      "metadata": {
        "id": "6pg_NzFq5_kO"
      },
      "source": [
        "1. Напишіть фукнцію `print_message`, яка виводить на екран \"Я програмую на Python💪\" і викличіть цю фукнцію 5 разів (найкраще це зробити в циклі).\n",
        "\n",
        "  **Увага**: фукнція має робити чітко лише зазначений функціонал. Наявність додаткового функціоналу і аргументів, які не потрібні для виконання безпосередньо завдання, буде вважатись помилкою."
      ]
    },
    {
      "cell_type": "code",
      "execution_count": null,
      "metadata": {
        "id": "RbXsfwI_D8ql",
        "outputId": "c81094e7-7456-4741-cf1a-6d038f368544"
      },
      "outputs": [
        {
          "name": "stdout",
          "output_type": "stream",
          "text": [
            "Я програмую на Python💪\n",
            "Я програмую на Python💪\n",
            "Я програмую на Python💪\n",
            "Я програмую на Python💪\n",
            "Я програмую на Python💪\n"
          ]
        }
      ],
      "source": [
        "def print_message():\n",
        "    print(\"Я програмую на Python💪\")\n",
        "for i in range (5):\n",
        "    print_message()"
      ]
    },
    {
      "cell_type": "markdown",
      "metadata": {
        "id": "oyRpWRXWBL9N"
      },
      "source": [
        "2. Напишіть функцію `calculation` яка приймає на вхід 4 аргументи типу int - `a`, `b`, `c`, `d` і вертає результат обчислення такої формули: $ (a + b - c) * d $.\n",
        "\n",
        "  Викличте функцію на наступному наборі аргументів і виведіть результат на екран:\n",
        "  ```\n",
        "  a = 16\n",
        "  b = 4\n",
        "  c = 9\n",
        "  d = 3\n",
        "  ```"
      ]
    },
    {
      "cell_type": "code",
      "execution_count": null,
      "metadata": {
        "id": "Ggt2tx6kD-LS",
        "outputId": "e5c48069-c4d7-4370-d3ad-a67323213f01"
      },
      "outputs": [
        {
          "data": {
            "text/plain": [
              "33"
            ]
          },
          "execution_count": 2,
          "metadata": {},
          "output_type": "execute_result"
        }
      ],
      "source": [
        "def calculation(a, b, c, d):\n",
        "    return (a + b - c) * d\n",
        "a = 16\n",
        "b = 4\n",
        "c = 9\n",
        "d = 3\n",
        "calculation(a, b, c, d)"
      ]
    },
    {
      "cell_type": "markdown",
      "metadata": {
        "id": "5hf1CbllDU_t"
      },
      "source": [
        "3. Напишіть функцію, яка додає до аргумента 15 і вертає результат додавання. Викличте функцію, передаючи в якості аргументів кожну з наступних змінних по черзі, і виведіть кожного разу результат на екран.\n",
        "```\n",
        "x = 9\n",
        "y = 14\n",
        "z = -19\n",
        "```"
      ]
    },
    {
      "cell_type": "code",
      "execution_count": null,
      "metadata": {
        "id": "GvEs_nUtD_Cd",
        "outputId": "0f824af1-a299-4972-e868-57b03790cdd2"
      },
      "outputs": [
        {
          "name": "stdout",
          "output_type": "stream",
          "text": [
            "24\n",
            "29\n",
            "-4\n"
          ]
        }
      ],
      "source": [
        "def s1(b):\n",
        "    return b + 15\n",
        "x = 9\n",
        "y = 14\n",
        "z = -19\n",
        "b = x\n",
        "print(s1(b))\n",
        "b = y\n",
        "print(s1(b))\n",
        "b = z\n",
        "print(s1(b))"
      ]
    },
    {
      "cell_type": "code",
      "execution_count": null,
      "metadata": {
        "id": "jwv4tzbCEo3p",
        "outputId": "4c518c12-f36c-4c85-c0e3-f83c6f9a4d3d"
      },
      "outputs": [
        {
          "name": "stdout",
          "output_type": "stream",
          "text": [
            "24\n",
            "29\n",
            "-4\n"
          ]
        }
      ],
      "source": [
        "# с циклом\n",
        "def s1(b):\n",
        "    return b + 15\n",
        "x = 9\n",
        "y = 14\n",
        "z = -19\n",
        "args = [x, y, z]\n",
        "for arg in args:\n",
        "    result = s1(arg)\n",
        "    print(s1(arg))"
      ]
    },
    {
      "cell_type": "markdown",
      "metadata": {
        "id": "bUuVBhie53uK"
      },
      "source": [
        "4. Напишіть функцію `multipy_numbers`, яка приймає два числа як аргументи і повертає їх добуток.\n",
        "\n",
        "  Викличіть функцію `multipy_numbers` на парах чисел\n",
        "    - 10 і 2\n",
        "    - 7 і 8\n",
        "    - 1024 і 999.\n",
        "  \n",
        "  Виведіть результат кожного виклику.\n",
        "  При виконанні цього завдання з використанням циклу - отримаєте 2х балів за нього :)"
      ]
    },
    {
      "cell_type": "code",
      "execution_count": null,
      "metadata": {
        "id": "cDqrgZ4YEAKj",
        "outputId": "e3f424c0-445c-4c5e-a92f-d6348e6e5892"
      },
      "outputs": [
        {
          "name": "stdout",
          "output_type": "stream",
          "text": [
            "20\n",
            "56\n",
            "1022976\n"
          ]
        }
      ],
      "source": [
        "def multiply_numbers(a, b):\n",
        "    return a * b\n",
        "pars = [(10, 2), (7, 8), (1024, 999)]\n",
        "for par in pars:\n",
        "    result = multiply_numbers(par[0], par[1])\n",
        "    print(result)"
      ]
    },
    {
      "cell_type": "markdown",
      "metadata": {
        "id": "I03t46k27dDZ"
      },
      "source": [
        "5. **Ділення з перевіркою типів.**  \n",
        "\n",
        "  1. Напишіть функцію `int_division` яка приймає на вхід два аргументи типу `int` - `a` і `b`, і виконує ділення першого аргумента на другий: `a/b`. При цьому функція перед діленням перевіряє, чи другий аргумент не дорівнює 0. Якщо другий аргумент не 0, фукнція вертає результат ділення, інакше - замість виконання ділення, вертає повідомлення на екран \"Не можу виконати ділення на 0\".\n",
        "\n",
        "    Якщо типи, надані у функцію, не `int` - функція виводить повідомлення \"Не працюю з такими типами даних.\".\n",
        "\n",
        "  2. Запустіть функцію на наступних парах чисел:\n",
        "  - 12 і 6\n",
        "  - 20 і 0\n",
        "  - 112 і 10\n",
        "  - 99 і 0\n",
        "  - 11 i 1.1\n",
        "\n",
        "    і виведіть на екран повідомлення \"Результат роботи функції: \" - і далі те, що повернула функція.\n",
        "\n",
        "  3. Дайте відповідь на питання: \"Чому в деяких випадках функція повернула None?\""
      ]
    },
    {
      "cell_type": "code",
      "execution_count": null,
      "metadata": {
        "id": "1-EQhxrAEEAb",
        "scrolled": true,
        "outputId": "050f1578-6327-4db4-e0ba-6e5e185f5c12"
      },
      "outputs": [
        {
          "name": "stdout",
          "output_type": "stream",
          "text": [
            "Результат роботи функції: 2.0\n",
            "Результат роботи функції: Не можу виконати ділення на 0\n",
            "None\n",
            "Результат роботи функції: 11.2\n",
            "Результат роботи функції: Не можу виконати ділення на 0\n",
            "None\n",
            "Результат роботи функції: Не працюю з такими типами даних.\n",
            "None\n"
          ]
        }
      ],
      "source": [
        "def int_division(a:int, b:int):\n",
        "    if type(a) != int or type(b) != int:\n",
        "        print(\"Не працюю з такими типами даних.\")\n",
        "        return\n",
        "    if b == 0:\n",
        "        print(\"Не можу виконати ділення на 0\")\n",
        "        return\n",
        "    else:\n",
        "        return a / b\n",
        "pars = [(12, 6), (20, 0), (112, 10), (99, 0), (11, 1.1)]\n",
        "for par in pars:\n",
        "    print(\"Результат роботи функції:\", end=\" \")\n",
        "    result = int_division(par[0], par[1])\n",
        "    print(result)\n",
        ""
      ]
    },
    {
      "cell_type": "code",
      "execution_count": null,
      "metadata": {
        "id": "iZjg_wzFEo3t"
      },
      "outputs": [],
      "source": [
        "# None тому що аргументи  не типу int"
      ]
    },
    {
      "cell_type": "code",
      "execution_count": null,
      "metadata": {
        "id": "1jbWis2EEo3u"
      },
      "outputs": [],
      "source": []
    }
  ],
  "metadata": {
    "colab": {
      "provenance": [],
      "include_colab_link": true
    },
    "kernelspec": {
      "display_name": "Python 3 (ipykernel)",
      "language": "python",
      "name": "python3"
    },
    "language_info": {
      "codemirror_mode": {
        "name": "ipython",
        "version": 3
      },
      "file_extension": ".py",
      "mimetype": "text/x-python",
      "name": "python",
      "nbconvert_exporter": "python",
      "pygments_lexer": "ipython3",
      "version": "3.11.5"
    }
  },
  "nbformat": 4,
  "nbformat_minor": 0
}